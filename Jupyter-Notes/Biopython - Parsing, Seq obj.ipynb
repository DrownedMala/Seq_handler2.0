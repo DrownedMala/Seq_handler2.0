{
 "cells": [
  {
   "cell_type": "markdown",
   "id": "919809da",
   "metadata": {},
   "source": [
    "# Biopython - Parsing, Seq, MutableSeq, UnknownSeq\n",
    "\n",
    "http://biopython.org/DIST/docs/tutorial/Tutorial.html"
   ]
  },
  {
   "cell_type": "code",
   "execution_count": 1,
   "id": "7536e8b6",
   "metadata": {},
   "outputs": [],
   "source": [
    "from Bio.Seq import Seq"
   ]
  },
  {
   "cell_type": "markdown",
   "id": "d78e6ba8",
   "metadata": {},
   "source": [
    "----------------\n",
    "## - Esempi di utilizzo della classe Seq -"
   ]
  },
  {
   "cell_type": "code",
   "execution_count": 2,
   "id": "011633c9",
   "metadata": {},
   "outputs": [],
   "source": [
    "my_seq = Seq(\"CATGTAGACTAG\") \n",
    "# Seq è una classe simile a str, ma con funzioni specifiche per l'ambito bio:"
   ]
  },
  {
   "cell_type": "code",
   "execution_count": 3,
   "id": "099b2fb3",
   "metadata": {},
   "outputs": [
    {
     "name": "stdout",
     "output_type": "stream",
     "text": [
      "Our seq \"CATGTAGACTAG\" is 12 bases long\n"
     ]
    }
   ],
   "source": [
    "print(f\"Our seq \\\"{my_seq}\\\" is {len(my_seq)} bases long\")"
   ]
  },
  {
   "cell_type": "code",
   "execution_count": 4,
   "id": "872ad665",
   "metadata": {},
   "outputs": [
    {
     "name": "stdout",
     "output_type": "stream",
     "text": [
      "its reverse complement is \"CTAGTCTACATG\"\n"
     ]
    }
   ],
   "source": [
    "print(f\"its reverse complement is \\\"{my_seq.reverse_complement()}\\\"\")"
   ]
  },
  {
   "cell_type": "code",
   "execution_count": 5,
   "id": "bd250cbf",
   "metadata": {},
   "outputs": [
    {
     "name": "stdout",
     "output_type": "stream",
     "text": [
      "its protein translation is \"HVD*\"\n"
     ]
    }
   ],
   "source": [
    "print(f\"its protein translation is \\\"{my_seq.translate()}\\\"\")"
   ]
  },
  {
   "cell_type": "markdown",
   "id": "419eacfb",
   "metadata": {},
   "source": [
    "## - Fine esempio -\n",
    "\n",
    "---------------"
   ]
  },
  {
   "cell_type": "markdown",
   "id": "ddad45b0",
   "metadata": {},
   "source": [
    "# Inizio tutorial\n",
    "\n",
    "### Link al tutorial:\n",
    "http://biopython.org/DIST/docs/tutorial/Tutorial.html"
   ]
  },
  {
   "cell_type": "markdown",
   "id": "1da486af",
   "metadata": {},
   "source": [
    "# # Parsing FASTA/GBK"
   ]
  },
  {
   "cell_type": "code",
   "execution_count": 6,
   "id": "01f69cec",
   "metadata": {},
   "outputs": [],
   "source": [
    "from Bio import SeqIO \n",
    "\n",
    "#  per poter gestire le sequenze in input/output"
   ]
  },
  {
   "cell_type": "markdown",
   "id": "caea3e3a",
   "metadata": {},
   "source": [
    "#### Abbiamo due file nella cartella corrente, un FASTA ed un GBK, entrambi con più risultati che sarebbe utile \"scremare\" in diversi output.\n",
    "#### Per questa ragione si utilizzano i parser, particolari algoritmi che sgruppano i dati, in modo da ottenere singoli elementi (seq_record) che contengono:\n",
    "#### - id della sequenza (seq_record.id) \n",
    "#### - la sequenza stessa (seq_record.seq) \n",
    "####   ed altre proprietà."
   ]
  },
  {
   "cell_type": "code",
   "execution_count": 7,
   "id": "39389517",
   "metadata": {
    "scrolled": true
   },
   "outputs": [
    {
     "name": "stdout",
     "output_type": "stream",
     "text": [
      "gi|2765658|emb|Z78533.1|CIZ78533\n",
      "Seq('CGTAACAAGGTTTCCGTAGGTGAACCTGCGGAAGGATCATTGATGAGACCGTGG...CGC')\n",
      "Sequence length is: 740\n",
      "\n",
      "gi|2765657|emb|Z78532.1|CCZ78532\n",
      "Seq('CGTAACAAGGTTTCCGTAGGTGAACCTGCGGAAGGATCATTGTTGAGACAACAG...GGC')\n",
      "Sequence length is: 753\n",
      "\n",
      "gi|2765656|emb|Z78531.1|CFZ78531\n",
      "Seq('CGTAACAAGGTTTCCGTAGGTGAACCTGCGGAAGGATCATTGTTGAGACAGCAG...TAA')\n",
      "Sequence length is: 748\n",
      "\n",
      "gi|2765655|emb|Z78530.1|CMZ78530\n",
      "Seq('CGTAACAAGGTTTCCGTAGGTGAACCTGCGGAAGGATCATTGTTGAAACAACAT...CAT')\n",
      "Sequence length is: 744\n",
      "\n",
      "gi|2765654|emb|Z78529.1|CLZ78529\n",
      "Seq('ACGGCGAGCTGCCGAAGGACATTGTTGAGACAGCAGAATATACGATTGAGTGAA...AAA')\n",
      "Sequence length is: 733\n",
      "\n",
      "gi|2765652|emb|Z78527.1|CYZ78527\n",
      "Seq('CGTAACAAGGTTTCCGTAGGTGAACCTGCGGAAGGATCATTGTTGAGACAGTAG...CCC')\n",
      "Sequence length is: 718\n",
      "\n",
      "gi|2765651|emb|Z78526.1|CGZ78526\n",
      "Seq('CGTAACAAGGTTTCCGTAGGTGAACCTGCGGAAGGATCATTGTTGAGACAGTAG...TGT')\n",
      "Sequence length is: 730\n",
      "\n",
      "gi|2765650|emb|Z78525.1|CAZ78525\n",
      "Seq('TGTTGAGATAGCAGAATATACATCGAGTGAATCCGGAGGACCTGTGGTTATTCG...GCA')\n",
      "Sequence length is: 704\n",
      "\n",
      "gi|2765649|emb|Z78524.1|CFZ78524\n",
      "Seq('CGTAACAAGGTTTCCGTAGGTGAACCTGCGGAAGGATCATTGTTGAGATAGTAG...AGC')\n",
      "Sequence length is: 740\n",
      "\n",
      "gi|2765648|emb|Z78523.1|CHZ78523\n",
      "Seq('CGTAACCAGGTTTCCGTAGGTGAACCTGCGGCAGGATCATTGTTGAGACAGCAG...AAG')\n",
      "Sequence length is: 709\n",
      "\n",
      "gi|2765647|emb|Z78522.1|CMZ78522\n",
      "Seq('CGTAACAAGGTTTCCGTAGGTGAACCTGCGGAAGGATCATTGTTGAGACAGCAG...GAG')\n",
      "Sequence length is: 700\n",
      "\n",
      "gi|2765646|emb|Z78521.1|CCZ78521\n",
      "Seq('GTAGGTGAACCTGCGGAAGGATCATTGTTGAGACAGTAGAATATATGATCGAGT...ACC')\n",
      "Sequence length is: 726\n",
      "\n",
      "gi|2765645|emb|Z78520.1|CSZ78520\n",
      "Seq('CGTAACAAGGTTTCCGTAGGTGAACCTGCGGAAGGATCATTGTTGAGACAGCAG...TTT')\n",
      "Sequence length is: 753\n",
      "\n",
      "gi|2765644|emb|Z78519.1|CPZ78519\n",
      "Seq('ATATGATCGAGTGAATCTGGTGGACTTGTGGTTACTCAGCTCGCCATAGGCTTT...TTA')\n",
      "Sequence length is: 699\n",
      "\n",
      "gi|2765643|emb|Z78518.1|CRZ78518\n",
      "Seq('CGTAACAAGGTTTCCGTAGGTGAACCTGCGGGAGGATCATTGTTGAGATAGTAG...TCC')\n",
      "Sequence length is: 658\n",
      "\n",
      "gi|2765642|emb|Z78517.1|CFZ78517\n",
      "Seq('CGTAACAAGGTTTCCGTAGGTGAACCTGCGGAAGGATCATTGTTGAGACAGTAG...AGC')\n",
      "Sequence length is: 752\n",
      "\n",
      "gi|2765641|emb|Z78516.1|CPZ78516\n",
      "Seq('CGTAACAAGGTTTCCGTAGGTGAACCTGCGGAAGGATCATTGTTGAGACAGTAT...TAA')\n",
      "Sequence length is: 726\n",
      "\n",
      "gi|2765640|emb|Z78515.1|MXZ78515\n",
      "Seq('CGTAACAAGGTTTCCGTAGGTGAACCTGCGGAAGGATCATTGCTGAGACCGTAG...AGC')\n",
      "Sequence length is: 765\n",
      "\n",
      "gi|2765639|emb|Z78514.1|PSZ78514\n",
      "Seq('CGTAACAAGGTTTCCGTAGGTGGACCTTCGGGAGGATCATTTTTGAAGCCCCCA...CTA')\n",
      "Sequence length is: 755\n",
      "\n",
      "gi|2765638|emb|Z78513.1|PBZ78513\n",
      "Seq('CGTAACAAGGTTTCCGTAGGTGAACCTGCGGAAGGATCATTGTTGAGACCGCCA...GAG')\n",
      "Sequence length is: 742\n",
      "\n",
      "gi|2765637|emb|Z78512.1|PWZ78512\n",
      "Seq('CGTAACAAGGTTTCCGTAGGTGGACCTTCGGGAGGATCATTTTTGAAGCCCCCA...AGC')\n",
      "Sequence length is: 762\n",
      "\n",
      "gi|2765636|emb|Z78511.1|PEZ78511\n",
      "Seq('CGTAACAAGGTTTCCGTAGGTGAACCTTCGGAAGGATCATTGTTGAGACCCCCA...GGA')\n",
      "Sequence length is: 745\n",
      "\n",
      "gi|2765635|emb|Z78510.1|PCZ78510\n",
      "Seq('CTAACCAGGGTTCCGAGGTGACCTTCGGGAGGATTCCTTTTTAAGCCCCCGAAA...TTA')\n",
      "Sequence length is: 750\n",
      "\n",
      "gi|2765634|emb|Z78509.1|PPZ78509\n",
      "Seq('CGTAACAAGGTTTCCGTAGGTGAACCTGCGGAAGGATCATTGTTGAGACCGCCA...GGA')\n",
      "Sequence length is: 731\n",
      "\n",
      "gi|2765633|emb|Z78508.1|PLZ78508\n",
      "Seq('CGTAACAAGGTTTCCGTAGGTGAACCTGCGGAAGGATCATTGTTGAGACCGCCA...TGA')\n",
      "Sequence length is: 741\n",
      "\n",
      "gi|2765632|emb|Z78507.1|PLZ78507\n",
      "Seq('CGTAACAAGGTTTCCGTAGGTGAACCTGCGGAAGGATCATTGTTGAGACCCCCA...TGA')\n",
      "Sequence length is: 740\n",
      "\n",
      "gi|2765631|emb|Z78506.1|PLZ78506\n",
      "Seq('CGTAACAAGGTTTCCGTAGGTGAACCTGCGGAAGGATCATTGTTGAGACCGCAA...TGA')\n",
      "Sequence length is: 727\n",
      "\n",
      "gi|2765630|emb|Z78505.1|PSZ78505\n",
      "Seq('CGTAACAAGGTTTCCGTAGGTGAACCTGCGGAAGGATCATTGTTGAGACCGCCA...TTT')\n",
      "Sequence length is: 711\n",
      "\n",
      "gi|2765629|emb|Z78504.1|PKZ78504\n",
      "Seq('CGTAACAAGGTTTCCGTAGGTGAACCTTCGGAAGGATCATTGTTGAGACCGCAA...TAA')\n",
      "Sequence length is: 743\n",
      "\n",
      "gi|2765628|emb|Z78503.1|PCZ78503\n",
      "Seq('CGTAACCAGGTTTCCGTAGGTGAACCTCCGGAAGGATCCTTGTTGAGACCGCCA...TAA')\n",
      "Sequence length is: 727\n",
      "\n",
      "gi|2765627|emb|Z78502.1|PBZ78502\n",
      "Seq('CGTAACCAGGTTTCCGTAGGTGAACCTCCGGAAGGATCATTGTTGAGACCGCCA...CGC')\n",
      "Sequence length is: 757\n",
      "\n",
      "gi|2765626|emb|Z78501.1|PCZ78501\n",
      "Seq('CGTAACAAGGTTTCCGTAGGTGAACCTGCGGAAGGATCATTGTTGAGACCGCAA...AGA')\n",
      "Sequence length is: 770\n",
      "\n",
      "gi|2765625|emb|Z78500.1|PWZ78500\n",
      "Seq('CGTAACAAGGTTTCCGTAGGTGAACCTGCGGAAGGCTCATTGTTGAGACCGCAA...AAG')\n",
      "Sequence length is: 767\n",
      "\n",
      "gi|2765624|emb|Z78499.1|PMZ78499\n",
      "Seq('CGTAACAAGGTTTCCGTAGGTGAACCTGCGGAGGGATCATTGTTGAGATCGCAT...ACC')\n",
      "Sequence length is: 759\n",
      "\n",
      "gi|2765623|emb|Z78498.1|PMZ78498\n",
      "Seq('CGTAACAAGGTTTCCGTAGGTGAACCTGCGGAAAGGTCATTGTTGAGATCACAT...AGC')\n",
      "Sequence length is: 750\n",
      "\n",
      "gi|2765622|emb|Z78497.1|PDZ78497\n",
      "Seq('CGTAACAAGGTTTCCGTAGGTGAACCTGCGGAAGGATCATTGTTGAGATCACAT...AGC')\n",
      "Sequence length is: 788\n",
      "\n",
      "gi|2765621|emb|Z78496.1|PAZ78496\n",
      "Seq('CGTAACAAGGTTTCCGTAGGTGAACCTGCGGAAGGATCATTGTTGAGATCGCAT...AGC')\n",
      "Sequence length is: 774\n",
      "\n",
      "gi|2765620|emb|Z78495.1|PEZ78495\n",
      "Seq('CGTAACAAGGTTTCCGTAGGTGAACCTCCGGAAGGATCATTGTTGAGATCACAT...GTG')\n",
      "Sequence length is: 789\n",
      "\n",
      "gi|2765619|emb|Z78494.1|PNZ78494\n",
      "Seq('CGTAACAAGGTTTCCGTAGGTGAACCTGCGGAAGGATCATTGTTGAGGTCGCAT...AAG')\n",
      "Sequence length is: 688\n",
      "\n",
      "gi|2765618|emb|Z78493.1|PGZ78493\n",
      "Seq('CGTAACAAGGATTCCGTAGGTGAACCTGCGGAAGGATCATTGTTGAGATCGCAT...CCC')\n",
      "Sequence length is: 719\n",
      "\n",
      "gi|2765617|emb|Z78492.1|PBZ78492\n",
      "Seq('CGTAACAAGGTTTCCGTAGGTGAACCTGCGGAAGGATCATTGTTGAGATCGCAT...ATA')\n",
      "Sequence length is: 743\n",
      "\n",
      "gi|2765616|emb|Z78491.1|PCZ78491\n",
      "Seq('CGTAACAAGGTTTCCGTAGGTGAACCTGCGGAAGGATCATTGTTGAGATCGCAT...AGC')\n",
      "Sequence length is: 737\n",
      "\n",
      "gi|2765615|emb|Z78490.1|PFZ78490\n",
      "Seq('CGTAACAAGGTTTCCGTAGGTGAACCTGCGGAAGGATCATTGTTGAGATCACAT...TGA')\n",
      "Sequence length is: 728\n",
      "\n",
      "gi|2765614|emb|Z78489.1|PDZ78489\n",
      "Seq('CGTAACAAGGTTTCCGTAGGTGAACCTGCGGAAGGATCATTGTTGAGATCACAT...GGC')\n",
      "Sequence length is: 740\n",
      "\n",
      "gi|2765613|emb|Z78488.1|PTZ78488\n",
      "Seq('CTGTAGGTGAACCTGCGGAAGGATCATTGTTGAGATCACGCAATAATTGATCGA...GCT')\n",
      "Sequence length is: 696\n",
      "\n",
      "gi|2765612|emb|Z78487.1|PHZ78487\n",
      "Seq('CGTAACAAGGTTTCCGTAGGTGAACCTGCGGAAGGATCATTGTTGAGATCACAT...TAA')\n",
      "Sequence length is: 732\n",
      "\n",
      "gi|2765611|emb|Z78486.1|PBZ78486\n",
      "Seq('CGTCACGAGGTTTCCGTAGGTGAATCTGCGGGAGGATCATTGTTGAGATCACAT...TGA')\n",
      "Sequence length is: 731\n",
      "\n",
      "gi|2765610|emb|Z78485.1|PHZ78485\n",
      "Seq('CTGAACCTGGTGTCCGAAGGTGAATCTGCGGATGGATCATTGTTGAGATATCAT...GTA')\n",
      "Sequence length is: 735\n",
      "\n",
      "gi|2765609|emb|Z78484.1|PCZ78484\n",
      "Seq('CGTAACAAGGTTTCCGTAGGTGAACCTGGGGAAGGATCATTGTTGAGATCACAT...TTT')\n",
      "Sequence length is: 720\n",
      "\n",
      "gi|2765608|emb|Z78483.1|PVZ78483\n",
      "Seq('CGTAACAAGGTTTCCGTAGGTGAACCTGCGGAAGGATCATTGTTGAGATCACAT...GCA')\n",
      "Sequence length is: 740\n",
      "\n",
      "gi|2765607|emb|Z78482.1|PEZ78482\n",
      "Seq('TCTACTGCAGTGACCGAGATTTGCCATCGAGCCTCCTGGGAGCTTTCTTGCTGG...GCA')\n",
      "Sequence length is: 629\n",
      "\n",
      "gi|2765606|emb|Z78481.1|PIZ78481\n",
      "Seq('CGTAACAAGGTTTCCGTAGGTGAACCTGCGGAAGGATCATTGTTGAGATCACAT...TGA')\n",
      "Sequence length is: 572\n",
      "\n",
      "gi|2765605|emb|Z78480.1|PGZ78480\n",
      "Seq('CGTAACAAGGTTTCCGTAGGTGAACCTGCGGAAGGATCATTGTTGAGATCACAT...TGA')\n",
      "Sequence length is: 587\n",
      "\n",
      "gi|2765604|emb|Z78479.1|PPZ78479\n",
      "Seq('CGTAACAAGGTTTCCGTAGGTGAACCTGCGGAAGGATCATTGTTGAGATCACAT...AGT')\n",
      "Sequence length is: 700\n",
      "\n",
      "gi|2765603|emb|Z78478.1|PVZ78478\n",
      "Seq('CGTAACAAGGTTTCCGTAGGTGAACCTCCGGAAGGATCAGTGTTGAGATCACAT...GGC')\n",
      "Sequence length is: 636\n",
      "\n",
      "gi|2765602|emb|Z78477.1|PVZ78477\n",
      "Seq('CGTAACAAGGTTTCCGTAGGTGAACCTGCGGAAGGATCATTGTTGAGATCACAT...TGC')\n",
      "Sequence length is: 716\n",
      "\n",
      "gi|2765601|emb|Z78476.1|PGZ78476\n",
      "Seq('CGTAACAAGGTTTCCGTAGGTGAACCTGCGGAAGGATCATTGTTGAGATCACAT...CCC')\n",
      "Sequence length is: 592\n",
      "\n",
      "gi|2765600|emb|Z78475.1|PSZ78475\n",
      "Seq('CGTAACAAGGTTTCCGTAGGTGAACCTGCGGAAGGATCATTGTTGAGATCACAT...GGT')\n",
      "Sequence length is: 716\n",
      "\n",
      "gi|2765599|emb|Z78474.1|PKZ78474\n",
      "Seq('CGTAACAAGGTTTCCGTAGGTGAACCTGCGGAAGGATCATTGTTGAGATCACGT...CTT')\n",
      "Sequence length is: 733\n",
      "\n",
      "gi|2765598|emb|Z78473.1|PSZ78473\n",
      "Seq('CGTAACAAGGTTTCCGTAGGTGAACCTGCGGAAGGATCATTGTTGAGATCACAT...AGG')\n",
      "Sequence length is: 626\n",
      "\n",
      "gi|2765597|emb|Z78472.1|PLZ78472\n",
      "Seq('CGTAACAAGGTTTCCGTAGGTGAACCTGCGGAAGGATCATTGTTGAGATCACAT...AGC')\n",
      "Sequence length is: 737\n",
      "\n",
      "gi|2765596|emb|Z78471.1|PDZ78471\n",
      "Seq('CGTAACAAGGTTTCCGTAGGTGAACCTGCGGAAGGATCATTGTTGAGATCACAT...AGC')\n",
      "Sequence length is: 740\n",
      "\n",
      "gi|2765595|emb|Z78470.1|PPZ78470\n",
      "Seq('CGTAACAAGGTTTCCGTAGGTGAACCTGCGGAAGGATCATTGTTGAGATCACAT...GTT')\n",
      "Sequence length is: 574\n",
      "\n",
      "gi|2765594|emb|Z78469.1|PHZ78469\n",
      "Seq('CGTAACAAGGTTTCCGTAGGTGAACCTGCGGAAGGATCATTGTTGAGATCACAT...GTT')\n",
      "Sequence length is: 594\n",
      "\n",
      "gi|2765593|emb|Z78468.1|PAZ78468\n",
      "Seq('CGTAACAAGGTTTCCGTAGGTGAACCTGCGGAAGGATCATTGTTGAGATCGCAT...GTT')\n",
      "Sequence length is: 610\n",
      "\n",
      "gi|2765592|emb|Z78467.1|PSZ78467\n",
      "Seq('CGTAACAAGGTTTCCGTAGGTGAACCTGCGGAAGGATCATTGTTGAGATCACAT...TGA')\n",
      "Sequence length is: 730\n",
      "\n",
      "gi|2765591|emb|Z78466.1|PPZ78466\n",
      "Seq('CGTAACAAGGTTTCCGTAGGTGAACCTGCGGAAGGATCATTGTTGAGATCACAT...CCC')\n",
      "Sequence length is: 641\n",
      "\n",
      "gi|2765590|emb|Z78465.1|PRZ78465\n",
      "Seq('CGTAACAAGGTTTCCGTAGGTGAACCTGCGGAAGGATCATTGTTGAGATCACAT...TGC')\n",
      "Sequence length is: 702\n",
      "\n",
      "gi|2765589|emb|Z78464.1|PGZ78464\n",
      "Seq('CGTAACAAGGTTTCCGTAGGTGAGCGGAAGGGTCATTGTTGAGATCACATAATA...AGC')\n",
      "Sequence length is: 733\n",
      "\n",
      "gi|2765588|emb|Z78463.1|PGZ78463\n",
      "Seq('CGTAACAAGGTTTCCGTAGGTGAACCTGCGGAAGGTTCATTGTTGAGATCACAT...AGC')\n",
      "Sequence length is: 738\n",
      "\n",
      "gi|2765587|emb|Z78462.1|PSZ78462\n",
      "Seq('CGTCACGAGGTCTCCGGATGTGACCCTGCGGAAGGATCATTGTTGAGATCACAT...CAT')\n",
      "Sequence length is: 736\n",
      "\n",
      "gi|2765586|emb|Z78461.1|PWZ78461\n",
      "Seq('CGTAACAAGGTTTCCGTAGGTGAACCTCCGGAAGGATCATTGTTGAGATCACAT...TAA')\n",
      "Sequence length is: 732\n",
      "\n",
      "gi|2765585|emb|Z78460.1|PCZ78460\n",
      "Seq('CGTAACAAGGTTTCCGTAGGTGAACCTCCGGAAGGATCATTGTTGAGATCACAT...TTA')\n",
      "Sequence length is: 745\n",
      "\n",
      "gi|2765584|emb|Z78459.1|PDZ78459\n",
      "Seq('CGTAACAAGGTTTCCGTAGGTGAACCTGCGGAAGGATCATTGTTGAGATCACAT...TTT')\n",
      "Sequence length is: 744\n",
      "\n",
      "gi|2765583|emb|Z78458.1|PHZ78458\n",
      "Seq('CGTAACAAGGTTTCCGTAGGTGAACCTGCGGAAGGATCATTGTTGAGATCACAT...TTG')\n",
      "Sequence length is: 738\n",
      "\n",
      "gi|2765582|emb|Z78457.1|PCZ78457\n",
      "Seq('CGTAACAAGGTTTCCGTAGGTGAACCTCCGGAAGGATCATTGTTGAGATCACAT...GAG')\n",
      "Sequence length is: 739\n",
      "\n",
      "gi|2765581|emb|Z78456.1|PTZ78456\n",
      "Seq('CGTAACAAGGTTTCCGTAGGTGAACCTGCGGAAGGATCATTGTTGAGATCACAT...AGC')\n",
      "Sequence length is: 740\n",
      "\n",
      "gi|2765580|emb|Z78455.1|PJZ78455\n",
      "Seq('CGTAACCAGGTTTCCGTAGGTGGACCTTCGGGAGGATCATTTTTGAGATCACAT...GCA')\n",
      "Sequence length is: 745\n",
      "\n",
      "gi|2765579|emb|Z78454.1|PFZ78454\n",
      "Seq('CGTAACAAGGTTTCCGTAGGTGAACCTGCGGAAGGATCATTGTTGAGATCACAT...AAC')\n",
      "Sequence length is: 695\n",
      "\n",
      "gi|2765578|emb|Z78453.1|PSZ78453\n",
      "Seq('CGTAACAAGGTTTCCGTAGGTGAACCTGCGGAAGGATCATTGTTGAGATCACAT...GCA')\n",
      "Sequence length is: 745\n",
      "\n",
      "gi|2765577|emb|Z78452.1|PBZ78452\n",
      "Seq('CGTAACAAGGTTTCCGTAGGTGAACCTGCGGAAGGATCATTGTTGAGATCACAT...GCA')\n",
      "Sequence length is: 743\n",
      "\n",
      "gi|2765576|emb|Z78451.1|PHZ78451\n",
      "Seq('CGTAACAAGGTTTCCGTAGGTGTACCTCCGGAAGGATCATTGTTGAGATCACAT...AGC')\n",
      "Sequence length is: 730\n",
      "\n",
      "gi|2765575|emb|Z78450.1|PPZ78450\n",
      "Seq('GGAAGGATCATTGCTGATATCACATAATAATTGATCGAGTTAAGCTGGAGGATC...GAG')\n",
      "Sequence length is: 706\n",
      "\n",
      "gi|2765574|emb|Z78449.1|PMZ78449\n",
      "Seq('CGTAACAAGGTTTCCGTAGGTGAACCTGCGGAAGGATCATTGTTGAGATCACAT...TGC')\n",
      "Sequence length is: 744\n",
      "\n",
      "gi|2765573|emb|Z78448.1|PAZ78448\n",
      "Seq('CGTAACAAGGTTTCCGTAGGTGAACCTGCGGAAGGATCATTGTTGAGATCACAT...AGG')\n",
      "Sequence length is: 742\n",
      "\n",
      "gi|2765572|emb|Z78447.1|PVZ78447\n",
      "Seq('CGTAACAAGGATTCCGTAGGTGAACCTGCGGGAGGATCATTGTTGAGATCACAT...AGC')\n",
      "Sequence length is: 694\n",
      "\n",
      "gi|2765571|emb|Z78446.1|PAZ78446\n",
      "Seq('CGTAACAAGGTTTCCGTAGGTGAACCTCCGGAAGGATCATTGTTGAGATCACAT...CCC')\n",
      "Sequence length is: 712\n",
      "\n",
      "gi|2765570|emb|Z78445.1|PUZ78445\n",
      "Seq('CGTAACAAGGTTTCCGTAGGTGAACCTGCGGAAGGATCATTGTTGAGATCACAT...TGT')\n",
      "Sequence length is: 715\n",
      "\n",
      "gi|2765569|emb|Z78444.1|PAZ78444\n",
      "Seq('CGTAACAAGGTTTCCGTAGGGTGAACTGCGGAAGGATCATTGTTGAGATCACAT...ATT')\n",
      "Sequence length is: 688\n",
      "\n",
      "gi|2765568|emb|Z78443.1|PLZ78443\n",
      "Seq('CGTAACAAGGTTTCCGTAGGTGAACCTGCGGAAGGATCATTGTTGAGATCACAT...AGG')\n",
      "Sequence length is: 784\n",
      "\n",
      "gi|2765567|emb|Z78442.1|PBZ78442\n",
      "Seq('GTAGGTGAACCTGCGGAAGGATCATTGTTGAGATCACATAATAATTGATCGAGT...AGT')\n",
      "Sequence length is: 721\n",
      "\n",
      "gi|2765566|emb|Z78441.1|PSZ78441\n",
      "Seq('GGAAGGTCATTGCCGATATCACATAATAATTGATCGAGTTAATCTGGAGGATCT...GAG')\n",
      "Sequence length is: 703\n",
      "\n",
      "gi|2765565|emb|Z78440.1|PPZ78440\n",
      "Seq('CGTAACAAGGTTTCCGTAGGTGGACCTCCGGGAGGATCATTGTTGAGATCACAT...GCA')\n",
      "Sequence length is: 744\n",
      "\n",
      "gi|2765564|emb|Z78439.1|PBZ78439\n",
      "Seq('CATTGTTGAGATCACATAATAATTGATCGAGTTAATCTGGAGGATCTGTTTACT...GCC')\n",
      "Sequence length is: 592\n",
      "\n"
     ]
    }
   ],
   "source": [
    "for seq_record in SeqIO.parse('ls_orchid.fasta', 'fasta'):\n",
    "    print(seq_record.id)\n",
    "    print(repr(seq_record.seq))  # repr() sembra comprimere le sequenze printate, altrimenti multi-riga\n",
    "    print(f\"Sequence length is: {len(seq_record)}\")\n",
    "    \n",
    "    print() # per lo spazio\n",
    "    \n",
    "# in questo modo riusciamo ad agire su ogni elemento \"seq_record\" del file FASTA dato come \n",
    "# input al parser, iterando su esso."
   ]
  },
  {
   "cell_type": "code",
   "execution_count": 8,
   "id": "188a62d7",
   "metadata": {},
   "outputs": [
    {
     "name": "stdout",
     "output_type": "stream",
     "text": [
      "Z78533.1\n",
      "Seq('CGTAACAAGGTTTCCGTAGGTGAACCTGCGGAAGGATCATTGATGAGACCGTGG...CGC')\n",
      "Seq length is: 740\n",
      "\n",
      "Z78532.1\n",
      "Seq('CGTAACAAGGTTTCCGTAGGTGAACCTGCGGAAGGATCATTGTTGAGACAACAG...GGC')\n",
      "Seq length is: 753\n",
      "\n",
      "Z78531.1\n",
      "Seq('CGTAACAAGGTTTCCGTAGGTGAACCTGCGGAAGGATCATTGTTGAGACAGCAG...TAA')\n",
      "Seq length is: 748\n",
      "\n",
      "Z78530.1\n",
      "Seq('CGTAACAAGGTTTCCGTAGGTGAACCTGCGGAAGGATCATTGTTGAAACAACAT...CAT')\n",
      "Seq length is: 744\n",
      "\n",
      "Z78529.1\n",
      "Seq('ACGGCGAGCTGCCGAAGGACATTGTTGAGACAGCAGAATATACGATTGAGTGAA...AAA')\n",
      "Seq length is: 733\n",
      "\n",
      "Z78527.1\n",
      "Seq('CGTAACAAGGTTTCCGTAGGTGAACCTGCGGAAGGATCATTGTTGAGACAGTAG...CCC')\n",
      "Seq length is: 718\n",
      "\n",
      "Z78526.1\n",
      "Seq('CGTAACAAGGTTTCCGTAGGTGAACCTGCGGAAGGATCATTGTTGAGACAGTAG...TGT')\n",
      "Seq length is: 730\n",
      "\n",
      "Z78525.1\n",
      "Seq('TGTTGAGATAGCAGAATATACATCGAGTGAATCCGGAGGACCTGTGGTTATTCG...GCA')\n",
      "Seq length is: 704\n",
      "\n",
      "Z78524.1\n",
      "Seq('CGTAACAAGGTTTCCGTAGGTGAACCTGCGGAAGGATCATTGTTGAGATAGTAG...AGC')\n",
      "Seq length is: 740\n",
      "\n",
      "Z78523.1\n",
      "Seq('CGTAACCAGGTTTCCGTAGGTGAACCTGCGGCAGGATCATTGTTGAGACAGCAG...AAG')\n",
      "Seq length is: 709\n",
      "\n",
      "Z78522.1\n",
      "Seq('CGTAACAAGGTTTCCGTAGGTGAACCTGCGGAAGGATCATTGTTGAGACAGCAG...GAG')\n",
      "Seq length is: 700\n",
      "\n",
      "Z78521.1\n",
      "Seq('GTAGGTGAACCTGCGGAAGGATCATTGTTGAGACAGTAGAATATATGATCGAGT...ACC')\n",
      "Seq length is: 726\n",
      "\n",
      "Z78520.1\n",
      "Seq('CGTAACAAGGTTTCCGTAGGTGAACCTGCGGAAGGATCATTGTTGAGACAGCAG...TTT')\n",
      "Seq length is: 753\n",
      "\n",
      "Z78519.1\n",
      "Seq('ATATGATCGAGTGAATCTGGTGGACTTGTGGTTACTCAGCTCGCCATAGGCTTT...TTA')\n",
      "Seq length is: 699\n",
      "\n",
      "Z78518.1\n",
      "Seq('CGTAACAAGGTTTCCGTAGGTGAACCTGCGGGAGGATCATTGTTGAGATAGTAG...TCC')\n",
      "Seq length is: 658\n",
      "\n",
      "Z78517.1\n",
      "Seq('CGTAACAAGGTTTCCGTAGGTGAACCTGCGGAAGGATCATTGTTGAGACAGTAG...AGC')\n",
      "Seq length is: 752\n",
      "\n",
      "Z78516.1\n",
      "Seq('CGTAACAAGGTTTCCGTAGGTGAACCTGCGGAAGGATCATTGTTGAGACAGTAT...TAA')\n",
      "Seq length is: 726\n",
      "\n",
      "Z78515.1\n",
      "Seq('CGTAACAAGGTTTCCGTAGGTGAACCTGCGGAAGGATCATTGCTGAGACCGTAG...AGC')\n",
      "Seq length is: 765\n",
      "\n",
      "Z78514.1\n",
      "Seq('CGTAACAAGGTTTCCGTAGGTGGACCTTCGGGAGGATCATTTTTGAAGCCCCCA...CTA')\n",
      "Seq length is: 755\n",
      "\n",
      "Z78513.1\n",
      "Seq('CGTAACAAGGTTTCCGTAGGTGAACCTGCGGAAGGATCATTGTTGAGACCGCCA...GAG')\n",
      "Seq length is: 742\n",
      "\n",
      "Z78512.1\n",
      "Seq('CGTAACAAGGTTTCCGTAGGTGGACCTTCGGGAGGATCATTTTTGAAGCCCCCA...AGC')\n",
      "Seq length is: 762\n",
      "\n",
      "Z78511.1\n",
      "Seq('CGTAACAAGGTTTCCGTAGGTGAACCTTCGGAAGGATCATTGTTGAGACCCCCA...GGA')\n",
      "Seq length is: 745\n",
      "\n",
      "Z78510.1\n",
      "Seq('CTAACCAGGGTTCCGAGGTGACCTTCGGGAGGATTCCTTTTTAAGCCCCCGAAA...TTA')\n",
      "Seq length is: 750\n",
      "\n",
      "Z78509.1\n",
      "Seq('CGTAACAAGGTTTCCGTAGGTGAACCTGCGGAAGGATCATTGTTGAGACCGCCA...GGA')\n",
      "Seq length is: 731\n",
      "\n",
      "Z78508.1\n",
      "Seq('CGTAACAAGGTTTCCGTAGGTGAACCTGCGGAAGGATCATTGTTGAGACCGCCA...TGA')\n",
      "Seq length is: 741\n",
      "\n",
      "Z78507.1\n",
      "Seq('CGTAACAAGGTTTCCGTAGGTGAACCTGCGGAAGGATCATTGTTGAGACCCCCA...TGA')\n",
      "Seq length is: 740\n",
      "\n",
      "Z78506.1\n",
      "Seq('CGTAACAAGGTTTCCGTAGGTGAACCTGCGGAAGGATCATTGTTGAGACCGCAA...TGA')\n",
      "Seq length is: 727\n",
      "\n",
      "Z78505.1\n",
      "Seq('CGTAACAAGGTTTCCGTAGGTGAACCTGCGGAAGGATCATTGTTGAGACCGCCA...TTT')\n",
      "Seq length is: 711\n",
      "\n",
      "Z78504.1\n",
      "Seq('CGTAACAAGGTTTCCGTAGGTGAACCTTCGGAAGGATCATTGTTGAGACCGCAA...TAA')\n",
      "Seq length is: 743\n",
      "\n",
      "Z78503.1\n",
      "Seq('CGTAACCAGGTTTCCGTAGGTGAACCTCCGGAAGGATCCTTGTTGAGACCGCCA...TAA')\n",
      "Seq length is: 727\n",
      "\n",
      "Z78502.1\n",
      "Seq('CGTAACCAGGTTTCCGTAGGTGAACCTCCGGAAGGATCATTGTTGAGACCGCCA...CGC')\n",
      "Seq length is: 757\n",
      "\n",
      "Z78501.1\n",
      "Seq('CGTAACAAGGTTTCCGTAGGTGAACCTGCGGAAGGATCATTGTTGAGACCGCAA...AGA')\n",
      "Seq length is: 770\n",
      "\n",
      "Z78500.1\n",
      "Seq('CGTAACAAGGTTTCCGTAGGTGAACCTGCGGAAGGCTCATTGTTGAGACCGCAA...AAG')\n",
      "Seq length is: 767\n",
      "\n",
      "Z78499.1\n",
      "Seq('CGTAACAAGGTTTCCGTAGGTGAACCTGCGGAGGGATCATTGTTGAGATCGCAT...ACC')\n",
      "Seq length is: 759\n",
      "\n",
      "Z78498.1\n",
      "Seq('CGTAACAAGGTTTCCGTAGGTGAACCTGCGGAAAGGTCATTGTTGAGATCACAT...AGC')\n",
      "Seq length is: 750\n",
      "\n",
      "Z78497.1\n",
      "Seq('CGTAACAAGGTTTCCGTAGGTGAACCTGCGGAAGGATCATTGTTGAGATCACAT...AGC')\n",
      "Seq length is: 788\n",
      "\n",
      "Z78496.1\n",
      "Seq('CGTAACAAGGTTTCCGTAGGTGAACCTGCGGAAGGATCATTGTTGAGATCGCAT...AGC')\n",
      "Seq length is: 774\n",
      "\n",
      "Z78495.1\n",
      "Seq('CGTAACAAGGTTTCCGTAGGTGAACCTCCGGAAGGATCATTGTTGAGATCACAT...GTG')\n",
      "Seq length is: 789\n",
      "\n",
      "Z78494.1\n",
      "Seq('CGTAACAAGGTTTCCGTAGGTGAACCTGCGGAAGGATCATTGTTGAGGTCGCAT...AAG')\n",
      "Seq length is: 688\n",
      "\n",
      "Z78493.1\n",
      "Seq('CGTAACAAGGATTCCGTAGGTGAACCTGCGGAAGGATCATTGTTGAGATCGCAT...CCC')\n",
      "Seq length is: 719\n",
      "\n",
      "Z78492.1\n",
      "Seq('CGTAACAAGGTTTCCGTAGGTGAACCTGCGGAAGGATCATTGTTGAGATCGCAT...ATA')\n",
      "Seq length is: 743\n",
      "\n",
      "Z78491.1\n",
      "Seq('CGTAACAAGGTTTCCGTAGGTGAACCTGCGGAAGGATCATTGTTGAGATCGCAT...AGC')\n",
      "Seq length is: 737\n",
      "\n",
      "Z78490.1\n",
      "Seq('CGTAACAAGGTTTCCGTAGGTGAACCTGCGGAAGGATCATTGTTGAGATCACAT...TGA')\n",
      "Seq length is: 728\n",
      "\n",
      "Z78489.1\n",
      "Seq('CGTAACAAGGTTTCCGTAGGTGAACCTGCGGAAGGATCATTGTTGAGATCACAT...GGC')\n",
      "Seq length is: 740\n",
      "\n",
      "Z78488.1\n",
      "Seq('CTGTAGGTGAACCTGCGGAAGGATCATTGTTGAGATCACGCAATAATTGATCGA...GCT')\n",
      "Seq length is: 696\n",
      "\n",
      "Z78487.1\n",
      "Seq('CGTAACAAGGTTTCCGTAGGTGAACCTGCGGAAGGATCATTGTTGAGATCACAT...TAA')\n",
      "Seq length is: 732\n",
      "\n",
      "Z78486.1\n",
      "Seq('CGTCACGAGGTTTCCGTAGGTGAATCTGCGGGAGGATCATTGTTGAGATCACAT...TGA')\n",
      "Seq length is: 731\n",
      "\n",
      "Z78485.1\n",
      "Seq('CTGAACCTGGTGTCCGAAGGTGAATCTGCGGATGGATCATTGTTGAGATATCAT...GTA')\n",
      "Seq length is: 735\n",
      "\n",
      "Z78484.1\n",
      "Seq('CGTAACAAGGTTTCCGTAGGTGAACCTGGGGAAGGATCATTGTTGAGATCACAT...TTT')\n",
      "Seq length is: 720\n",
      "\n",
      "Z78483.1\n",
      "Seq('CGTAACAAGGTTTCCGTAGGTGAACCTGCGGAAGGATCATTGTTGAGATCACAT...GCA')\n",
      "Seq length is: 740\n",
      "\n",
      "Z78482.1\n",
      "Seq('TCTACTGCAGTGACCGAGATTTGCCATCGAGCCTCCTGGGAGCTTTCTTGCTGG...GCA')\n",
      "Seq length is: 629\n",
      "\n",
      "Z78481.1\n",
      "Seq('CGTAACAAGGTTTCCGTAGGTGAACCTGCGGAAGGATCATTGTTGAGATCACAT...TGA')\n",
      "Seq length is: 572\n",
      "\n",
      "Z78480.1\n",
      "Seq('CGTAACAAGGTTTCCGTAGGTGAACCTGCGGAAGGATCATTGTTGAGATCACAT...TGA')\n",
      "Seq length is: 587\n",
      "\n",
      "Z78479.1\n",
      "Seq('CGTAACAAGGTTTCCGTAGGTGAACCTGCGGAAGGATCATTGTTGAGATCACAT...AGT')\n",
      "Seq length is: 700\n",
      "\n",
      "Z78478.1\n",
      "Seq('CGTAACAAGGTTTCCGTAGGTGAACCTCCGGAAGGATCAGTGTTGAGATCACAT...GGC')\n",
      "Seq length is: 636\n",
      "\n",
      "Z78477.1\n",
      "Seq('CGTAACAAGGTTTCCGTAGGTGAACCTGCGGAAGGATCATTGTTGAGATCACAT...TGC')\n",
      "Seq length is: 716\n",
      "\n",
      "Z78476.1\n",
      "Seq('CGTAACAAGGTTTCCGTAGGTGAACCTGCGGAAGGATCATTGTTGAGATCACAT...CCC')\n",
      "Seq length is: 592\n",
      "\n",
      "Z78475.1\n",
      "Seq('CGTAACAAGGTTTCCGTAGGTGAACCTGCGGAAGGATCATTGTTGAGATCACAT...GGT')\n",
      "Seq length is: 716\n",
      "\n",
      "Z78474.1\n",
      "Seq('CGTAACAAGGTTTCCGTAGGTGAACCTGCGGAAGGATCATTGTTGAGATCACGT...CTT')\n",
      "Seq length is: 733\n",
      "\n",
      "Z78473.1\n",
      "Seq('CGTAACAAGGTTTCCGTAGGTGAACCTGCGGAAGGATCATTGTTGAGATCACAT...AGG')\n",
      "Seq length is: 626\n",
      "\n",
      "Z78472.1\n",
      "Seq('CGTAACAAGGTTTCCGTAGGTGAACCTGCGGAAGGATCATTGTTGAGATCACAT...AGC')\n",
      "Seq length is: 737\n",
      "\n",
      "Z78471.1\n",
      "Seq('CGTAACAAGGTTTCCGTAGGTGAACCTGCGGAAGGATCATTGTTGAGATCACAT...AGC')\n",
      "Seq length is: 740\n",
      "\n",
      "Z78470.1\n",
      "Seq('CGTAACAAGGTTTCCGTAGGTGAACCTGCGGAAGGATCATTGTTGAGATCACAT...GTT')\n",
      "Seq length is: 574\n",
      "\n",
      "Z78469.1\n",
      "Seq('CGTAACAAGGTTTCCGTAGGTGAACCTGCGGAAGGATCATTGTTGAGATCACAT...GTT')\n",
      "Seq length is: 594\n",
      "\n",
      "Z78468.1\n",
      "Seq('CGTAACAAGGTTTCCGTAGGTGAACCTGCGGAAGGATCATTGTTGAGATCGCAT...GTT')\n",
      "Seq length is: 610\n",
      "\n",
      "Z78467.1\n",
      "Seq('CGTAACAAGGTTTCCGTAGGTGAACCTGCGGAAGGATCATTGTTGAGATCACAT...TGA')\n",
      "Seq length is: 730\n",
      "\n",
      "Z78466.1\n",
      "Seq('CGTAACAAGGTTTCCGTAGGTGAACCTGCGGAAGGATCATTGTTGAGATCACAT...CCC')\n",
      "Seq length is: 641\n",
      "\n",
      "Z78465.1\n",
      "Seq('CGTAACAAGGTTTCCGTAGGTGAACCTGCGGAAGGATCATTGTTGAGATCACAT...TGC')\n",
      "Seq length is: 702\n",
      "\n",
      "Z78464.1\n",
      "Seq('CGTAACAAGGTTTCCGTAGGTGAGCGGAAGGGTCATTGTTGAGATCACATAATA...AGC')\n",
      "Seq length is: 733\n",
      "\n",
      "Z78463.1\n",
      "Seq('CGTAACAAGGTTTCCGTAGGTGAACCTGCGGAAGGTTCATTGTTGAGATCACAT...AGC')\n",
      "Seq length is: 738\n",
      "\n",
      "Z78462.1\n",
      "Seq('CGTCACGAGGTCTCCGGATGTGACCCTGCGGAAGGATCATTGTTGAGATCACAT...CAT')\n",
      "Seq length is: 736\n",
      "\n",
      "Z78461.1\n",
      "Seq('CGTAACAAGGTTTCCGTAGGTGAACCTCCGGAAGGATCATTGTTGAGATCACAT...TAA')\n",
      "Seq length is: 732\n",
      "\n",
      "Z78460.1\n",
      "Seq('CGTAACAAGGTTTCCGTAGGTGAACCTCCGGAAGGATCATTGTTGAGATCACAT...TTA')\n",
      "Seq length is: 745\n",
      "\n",
      "Z78459.1\n",
      "Seq('CGTAACAAGGTTTCCGTAGGTGAACCTGCGGAAGGATCATTGTTGAGATCACAT...TTT')\n",
      "Seq length is: 744\n",
      "\n",
      "Z78458.1\n",
      "Seq('CGTAACAAGGTTTCCGTAGGTGAACCTGCGGAAGGATCATTGTTGAGATCACAT...TTG')\n",
      "Seq length is: 738\n",
      "\n",
      "Z78457.1\n",
      "Seq('CGTAACAAGGTTTCCGTAGGTGAACCTCCGGAAGGATCATTGTTGAGATCACAT...GAG')\n",
      "Seq length is: 739\n",
      "\n",
      "Z78456.1\n",
      "Seq('CGTAACAAGGTTTCCGTAGGTGAACCTGCGGAAGGATCATTGTTGAGATCACAT...AGC')\n",
      "Seq length is: 740\n",
      "\n",
      "Z78455.1\n",
      "Seq('CGTAACCAGGTTTCCGTAGGTGGACCTTCGGGAGGATCATTTTTGAGATCACAT...GCA')\n",
      "Seq length is: 745\n",
      "\n",
      "Z78454.1\n",
      "Seq('CGTAACAAGGTTTCCGTAGGTGAACCTGCGGAAGGATCATTGTTGAGATCACAT...AAC')\n",
      "Seq length is: 695\n",
      "\n",
      "Z78453.1\n",
      "Seq('CGTAACAAGGTTTCCGTAGGTGAACCTGCGGAAGGATCATTGTTGAGATCACAT...GCA')\n",
      "Seq length is: 745\n",
      "\n",
      "Z78452.1\n",
      "Seq('CGTAACAAGGTTTCCGTAGGTGAACCTGCGGAAGGATCATTGTTGAGATCACAT...GCA')\n",
      "Seq length is: 743\n",
      "\n",
      "Z78451.1\n",
      "Seq('CGTAACAAGGTTTCCGTAGGTGTACCTCCGGAAGGATCATTGTTGAGATCACAT...AGC')\n",
      "Seq length is: 730\n",
      "\n",
      "Z78450.1\n",
      "Seq('GGAAGGATCATTGCTGATATCACATAATAATTGATCGAGTTAAGCTGGAGGATC...GAG')\n",
      "Seq length is: 706\n",
      "\n",
      "Z78449.1\n",
      "Seq('CGTAACAAGGTTTCCGTAGGTGAACCTGCGGAAGGATCATTGTTGAGATCACAT...TGC')\n",
      "Seq length is: 744\n",
      "\n",
      "Z78448.1\n",
      "Seq('CGTAACAAGGTTTCCGTAGGTGAACCTGCGGAAGGATCATTGTTGAGATCACAT...AGG')\n",
      "Seq length is: 742\n",
      "\n",
      "Z78447.1\n",
      "Seq('CGTAACAAGGATTCCGTAGGTGAACCTGCGGGAGGATCATTGTTGAGATCACAT...AGC')\n",
      "Seq length is: 694\n",
      "\n",
      "Z78446.1\n",
      "Seq('CGTAACAAGGTTTCCGTAGGTGAACCTCCGGAAGGATCATTGTTGAGATCACAT...CCC')\n",
      "Seq length is: 712\n",
      "\n",
      "Z78445.1\n",
      "Seq('CGTAACAAGGTTTCCGTAGGTGAACCTGCGGAAGGATCATTGTTGAGATCACAT...TGT')\n",
      "Seq length is: 715\n",
      "\n",
      "Z78444.1\n",
      "Seq('CGTAACAAGGTTTCCGTAGGGTGAACTGCGGAAGGATCATTGTTGAGATCACAT...ATT')\n",
      "Seq length is: 688\n",
      "\n",
      "Z78443.1\n",
      "Seq('CGTAACAAGGTTTCCGTAGGTGAACCTGCGGAAGGATCATTGTTGAGATCACAT...AGG')\n",
      "Seq length is: 784\n",
      "\n",
      "Z78442.1\n",
      "Seq('GTAGGTGAACCTGCGGAAGGATCATTGTTGAGATCACATAATAATTGATCGAGT...AGT')\n",
      "Seq length is: 721\n",
      "\n",
      "Z78441.1\n",
      "Seq('GGAAGGTCATTGCCGATATCACATAATAATTGATCGAGTTAATCTGGAGGATCT...GAG')\n",
      "Seq length is: 703\n",
      "\n",
      "Z78440.1\n",
      "Seq('CGTAACAAGGTTTCCGTAGGTGGACCTCCGGGAGGATCATTGTTGAGATCACAT...GCA')\n",
      "Seq length is: 744\n",
      "\n",
      "Z78439.1\n",
      "Seq('CATTGTTGAGATCACATAATAATTGATCGAGTTAATCTGGAGGATCTGTTTACT...GCC')\n",
      "Seq length is: 592\n",
      "\n"
     ]
    }
   ],
   "source": [
    "for seq_record in SeqIO.parse('ls_orchid.gbk', 'genbank'):\n",
    "    print(seq_record.id)\n",
    "    print(repr(seq_record.seq))  # repr() sembra comprimere le sequenze printate, altrimenti multi-riga\n",
    "    print(f\"Seq length is: {len(seq_record)}\")\n",
    "    \n",
    "    print()\n",
    "    \n",
    "# in questo modo riusciamo ad agire su ogni elemento \"seq_record\" del file GBK dato come \n",
    "# input al parser, iterando su esso."
   ]
  },
  {
   "cell_type": "markdown",
   "id": "607406fc",
   "metadata": {},
   "source": [
    "--------------------\n",
    "# # Seq\n",
    "### Come gestire le sequenze in Biopython"
   ]
  },
  {
   "cell_type": "code",
   "execution_count": 9,
   "id": "726f197a",
   "metadata": {},
   "outputs": [],
   "source": [
    "seq = Seq(\"GATAC\")      # senza differenza, Seq può gestire sia sequenze amminoacidiche che nucelotiche,\n",
    "seq_pr = Seq(\"EVRNAK\")  # in fondo per 'lui' sono solo caratteri ¢-¢"
   ]
  },
  {
   "cell_type": "markdown",
   "id": "5bbf23e3",
   "metadata": {},
   "source": [
    "### Per molti casi si può trattare l'oggetto Seq come una str:"
   ]
  },
  {
   "cell_type": "code",
   "execution_count": 10,
   "id": "b6804aaa",
   "metadata": {},
   "outputs": [
    {
     "name": "stdout",
     "output_type": "stream",
     "text": [
      "0 G\n",
      "1 A\n",
      "2 T\n",
      "3 A\n",
      "4 C\n"
     ]
    }
   ],
   "source": [
    "for index, letter in enumerate(seq):\n",
    "    print(f\"{index} {letter}\")\n",
    "    \n",
    "# enumerate() restituisce una lista degli elementi della stringa (quindi ogni singola lettera),\n",
    "# accoppiati con un indice che parte da 0.\n",
    "# Del tipo:  (0, seq[0]), (1, seq[1]), (2, seq[2]), ...\n",
    "# Per questo motivo possiamo iterare con un for e farne stampare sia l'indice (index) che l'oggetto (letter)"
   ]
  },
  {
   "cell_type": "code",
   "execution_count": 11,
   "id": "cc7f1eb2",
   "metadata": {},
   "outputs": [
    {
     "name": "stdout",
     "output_type": "stream",
     "text": [
      "GATAC\n",
      "5\n"
     ]
    }
   ],
   "source": [
    "print(seq)\n",
    "print(len(seq)) # si può usare len()"
   ]
  },
  {
   "cell_type": "code",
   "execution_count": 12,
   "id": "7f2fc0ba",
   "metadata": {},
   "outputs": [
    {
     "name": "stdout",
     "output_type": "stream",
     "text": [
      "G\n",
      "C\n"
     ]
    }
   ],
   "source": [
    "print(seq[0]) # si può accedere ai singoli elementi come per le stringhe, sempre partendo dallo 0!\n",
    "print(seq[-1])"
   ]
  },
  {
   "cell_type": "markdown",
   "id": "6ff86f8c",
   "metadata": {},
   "source": [
    "### Slicing:"
   ]
  },
  {
   "cell_type": "code",
   "execution_count": 13,
   "id": "f47df59d",
   "metadata": {},
   "outputs": [],
   "source": [
    "new_seq = Seq(\"GATCGATGGGCCTATATAGGATCGAAAATCGC\")"
   ]
  },
  {
   "cell_type": "code",
   "execution_count": 14,
   "id": "9610c85d",
   "metadata": {},
   "outputs": [
    {
     "data": {
      "text/plain": [
       "Seq('ATCGATGGGC')"
      ]
     },
     "execution_count": 14,
     "metadata": {},
     "output_type": "execute_result"
    }
   ],
   "source": [
    "new_seq[1:11]  # siccome python inizia a contare da 0, se prendiamo 1:11, avremo 10 caratteri, non dall'1 all'11 \n",
    "               # (che sarebbero 11 caratteri); con lo slicing si ha che il primo termine [1:] è inclusivo, mentre\n",
    "               # il secondo [:11] viene escluso."
   ]
  },
  {
   "cell_type": "code",
   "execution_count": 15,
   "id": "0ec3680e",
   "metadata": {},
   "outputs": [
    {
     "name": "stdout",
     "output_type": "stream",
     "text": [
      "GATCGATGGG\n"
     ]
    }
   ],
   "source": [
    "print(new_seq[0:10])"
   ]
  },
  {
   "cell_type": "code",
   "execution_count": 16,
   "id": "684eb4f7",
   "metadata": {},
   "outputs": [
    {
     "data": {
      "text/plain": [
       "Seq('CGCTAAAAGCTAGGATATATCCGGGTAGCTAG')"
      ]
     },
     "execution_count": 16,
     "metadata": {},
     "output_type": "execute_result"
    }
   ],
   "source": [
    "# possiamo ottenere l'inverso della sequenza attraverso slicing:\n",
    "new_seq[::-1]"
   ]
  },
  {
   "cell_type": "code",
   "execution_count": 17,
   "id": "5cc1b474",
   "metadata": {},
   "outputs": [
    {
     "data": {
      "text/plain": [
       "'GATCGATGGGCCTATATAGGATCGAAAATCGC'"
      ]
     },
     "execution_count": 17,
     "metadata": {},
     "output_type": "execute_result"
    }
   ],
   "source": [
    "# se dovesse servirci il contenuto di Seq in formato str, il gioco è semplice:\n",
    "str(new_seq)"
   ]
  },
  {
   "cell_type": "markdown",
   "id": "63fc8c46",
   "metadata": {},
   "source": [
    "### Concatenare o 'sommare' sequenze:"
   ]
  },
  {
   "cell_type": "code",
   "execution_count": 18,
   "id": "f6b1a9f9",
   "metadata": {},
   "outputs": [],
   "source": [
    "list_of_seqs = [Seq(\"ACGT\"), Seq(\"AACC\"), Seq(\"GGTT\")]\n",
    "concatenated = (\"\")"
   ]
  },
  {
   "cell_type": "code",
   "execution_count": 19,
   "id": "9a3b1fb3",
   "metadata": {},
   "outputs": [],
   "source": [
    "for s in list_of_seqs:                 # ogni elemento Seq di list_of_seqs viene sommato a quello precedente \n",
    "    concatenated += s                  # nella variabile 'concatenated'"
   ]
  },
  {
   "cell_type": "code",
   "execution_count": 20,
   "id": "84f5bc81",
   "metadata": {},
   "outputs": [
    {
     "data": {
      "text/plain": [
       "Seq('ACGTAACCGGTT')"
      ]
     },
     "execution_count": 20,
     "metadata": {},
     "output_type": "execute_result"
    }
   ],
   "source": [
    "concatenated"
   ]
  },
  {
   "cell_type": "markdown",
   "id": "a2dd7ddb",
   "metadata": {},
   "source": [
    "### Anche .join() è valido per gli elementi Seq:"
   ]
  },
  {
   "cell_type": "code",
   "execution_count": 21,
   "id": "6e65c474",
   "metadata": {},
   "outputs": [],
   "source": [
    "contigs = [Seq(\"ATG\"), Seq(\"ATCCCG\"), Seq(\"TTGCA\")]\n",
    "spacer = Seq(\"N\"*10)"
   ]
  },
  {
   "cell_type": "code",
   "execution_count": 22,
   "id": "95873206",
   "metadata": {},
   "outputs": [
    {
     "data": {
      "text/plain": [
       "Seq('ATGNNNNNNNNNNATCCCGNNNNNNNNNNTTGCA')"
      ]
     },
     "execution_count": 22,
     "metadata": {},
     "output_type": "execute_result"
    }
   ],
   "source": [
    "spacer.join(contigs)"
   ]
  },
  {
   "cell_type": "markdown",
   "id": "8b6683eb",
   "metadata": {},
   "source": [
    "### Anche .upper() e .lower() sono metodi applicabili a Seq:"
   ]
  },
  {
   "cell_type": "code",
   "execution_count": 23,
   "id": "3c2c29df",
   "metadata": {},
   "outputs": [
    {
     "data": {
      "text/plain": [
       "Seq('gatcgatgggcctatataggatcgaaaatcgc')"
      ]
     },
     "execution_count": 23,
     "metadata": {},
     "output_type": "execute_result"
    }
   ],
   "source": [
    "new_seq.lower()"
   ]
  },
  {
   "cell_type": "code",
   "execution_count": 24,
   "id": "c34d8cc5",
   "metadata": {},
   "outputs": [
    {
     "data": {
      "text/plain": [
       "Seq('GATCGATGGGCCTATATAGGATCGAAAATCGC')"
      ]
     },
     "execution_count": 24,
     "metadata": {},
     "output_type": "execute_result"
    }
   ],
   "source": [
    "new_seq.upper()"
   ]
  },
  {
   "cell_type": "markdown",
   "id": "82c11c85",
   "metadata": {},
   "source": [
    "----------\n",
    "## # Complemento e Complemento inverso:"
   ]
  },
  {
   "cell_type": "code",
   "execution_count": 25,
   "id": "a31c22f9",
   "metadata": {},
   "outputs": [],
   "source": [
    "n_seq = Seq('GATCGATGGGCCTATATAGGATCGAAAATCGC')"
   ]
  },
  {
   "cell_type": "markdown",
   "id": "5b4e2d6f",
   "metadata": {},
   "source": [
    "#### Complemento ↓"
   ]
  },
  {
   "cell_type": "code",
   "execution_count": 26,
   "id": "f13b799e",
   "metadata": {},
   "outputs": [
    {
     "data": {
      "text/plain": [
       "Seq('CTAGCTACCCGGATATATCCTAGCTTTTAGCG')"
      ]
     },
     "execution_count": 26,
     "metadata": {},
     "output_type": "execute_result"
    }
   ],
   "source": [
    "n_seq.complement()"
   ]
  },
  {
   "cell_type": "code",
   "execution_count": 27,
   "id": "61587f4f",
   "metadata": {},
   "outputs": [
    {
     "data": {
      "text/plain": [
       "Seq('CGCTAAAAGCTAGGATATATCCGGGTAGCTAG')"
      ]
     },
     "execution_count": 27,
     "metadata": {},
     "output_type": "execute_result"
    }
   ],
   "source": [
    "n_seq[::-1]       # metodo alternativo con slicing"
   ]
  },
  {
   "cell_type": "markdown",
   "id": "6a8f8612",
   "metadata": {},
   "source": [
    "#### Complemento inverso ↓"
   ]
  },
  {
   "cell_type": "code",
   "execution_count": 28,
   "id": "fb97f940",
   "metadata": {},
   "outputs": [
    {
     "data": {
      "text/plain": [
       "Seq('GCGATTTTCGATCCTATATAGGCCCATCGATC')"
      ]
     },
     "execution_count": 28,
     "metadata": {},
     "output_type": "execute_result"
    }
   ],
   "source": [
    "n_seq.reverse_complement()"
   ]
  },
  {
   "cell_type": "markdown",
   "id": "89b1151a",
   "metadata": {},
   "source": [
    "------------------\n",
    "## # Trascrizione\n",
    "### Si distinguono due casi, in base allo strand a nostra disposizione:"
   ]
  },
  {
   "cell_type": "code",
   "execution_count": 29,
   "id": "67055b10",
   "metadata": {},
   "outputs": [],
   "source": [
    "cod_seq = Seq(\"GATTTTCGATCCTATATAGGCCCATCGATC\")  # quella che codifica il gene trascritto\n",
    "templ_seq = Seq(\"GATCGATGGGCCTATATAGGATCGAAAATC\")# il reverse complement del di sopra, che permette la trascrizione"
   ]
  },
  {
   "cell_type": "code",
   "execution_count": 30,
   "id": "5642e8c3",
   "metadata": {},
   "outputs": [
    {
     "data": {
      "text/plain": [
       "Seq('GAUUUUCGAUCCUAUAUAGGCCCAUCGAUC')"
      ]
     },
     "execution_count": 30,
     "metadata": {},
     "output_type": "execute_result"
    }
   ],
   "source": [
    "# nel caso in cui avessimo il coding strand l'unica modifica a livello informativo è il passaggio delle T → U\n",
    "\n",
    "cod_seq.transcribe()     # DNA → RNA"
   ]
  },
  {
   "cell_type": "code",
   "execution_count": 31,
   "id": "2e2ac9d2",
   "metadata": {},
   "outputs": [
    {
     "data": {
      "text/plain": [
       "Seq('GAUUUUCGAUCCUAUAUAGGCCCAUCGAUC')"
      ]
     },
     "execution_count": 31,
     "metadata": {},
     "output_type": "execute_result"
    }
   ],
   "source": [
    "# nel caso in cui avessimo il template strand serve replicare ciò che avviene in natura, \n",
    "# ovvero una trascrizione del complementare inverso del filamento templato\n",
    "\n",
    "templ_seq.reverse_complement().transcribe()"
   ]
  },
  {
   "cell_type": "markdown",
   "id": "97e65cc4",
   "metadata": {},
   "source": [
    "### Retro-trascrizione"
   ]
  },
  {
   "cell_type": "code",
   "execution_count": 32,
   "id": "68e75fa0",
   "metadata": {},
   "outputs": [],
   "source": [
    "rna_seq = cod_seq.transcribe()"
   ]
  },
  {
   "cell_type": "code",
   "execution_count": 33,
   "id": "a34394df",
   "metadata": {},
   "outputs": [
    {
     "data": {
      "text/plain": [
       "Seq('GATTTTCGATCCTATATAGGCCCATCGATC')"
      ]
     },
     "execution_count": 33,
     "metadata": {},
     "output_type": "execute_result"
    }
   ],
   "source": [
    "rna_seq.back_transcribe()   # RNA → DNA"
   ]
  },
  {
   "cell_type": "markdown",
   "id": "0647374a",
   "metadata": {},
   "source": [
    "-----------------\n",
    "## # Traduzione"
   ]
  },
  {
   "cell_type": "code",
   "execution_count": 34,
   "id": "c0f7cdf9",
   "metadata": {},
   "outputs": [],
   "source": [
    "mRNA = Seq(\"AUGGCCAUUGUAAUGGGCCGCUGAAAGGGUGCCCGAUAG\")\n",
    "codingDNA = Seq(\"AUGGCCAUUGUAAUGGGCCGCUGAAAGGGUGCCCGAUAG\").back_transcribe() # pigrizia portami via"
   ]
  },
  {
   "cell_type": "code",
   "execution_count": 35,
   "id": "fa55929c",
   "metadata": {},
   "outputs": [
    {
     "data": {
      "text/plain": [
       "Seq('MAIVMGR*KGAR*')"
      ]
     },
     "execution_count": 35,
     "metadata": {},
     "output_type": "execute_result"
    }
   ],
   "source": [
    "mRNA.translate()            # RNA → AA "
   ]
  },
  {
   "cell_type": "code",
   "execution_count": 36,
   "id": "0b79b5c4",
   "metadata": {},
   "outputs": [
    {
     "data": {
      "text/plain": [
       "Seq('MAIVMGR*KGAR*')"
      ]
     },
     "execution_count": 36,
     "metadata": {},
     "output_type": "execute_result"
    }
   ],
   "source": [
    "codingDNA.translate()       # DNA → AA"
   ]
  },
  {
   "cell_type": "markdown",
   "id": "1f3904cc",
   "metadata": {},
   "source": [
    "#### .translate() utilizza come default la tabella di conversione dei codoni dell'uomo;\n",
    "#### tale impostazione potrebbe causare problemi, come nella cella sopra, nella quale abbiamo un codone di stop anche interno.\n",
    "#### La sequenza sopra è mitocondriale: se proviamo ad impostare la tabella per i mitocondri vedremo sparire lo stop codon interno."
   ]
  },
  {
   "cell_type": "code",
   "execution_count": 37,
   "id": "794399b5",
   "metadata": {},
   "outputs": [
    {
     "data": {
      "text/plain": [
       "Seq('MAIVMGRWKGAR*')"
      ]
     },
     "execution_count": 37,
     "metadata": {},
     "output_type": "execute_result"
    }
   ],
   "source": [
    "mRNA.translate(table=\"Vertebrate Mitochondrial\")\n",
    "\n",
    "# in alternativa, nei file GBK, è segnato il numero della tabella; sarebbe quindi sufficiente mettere (table=#)"
   ]
  },
  {
   "cell_type": "markdown",
   "id": "d68da487",
   "metadata": {},
   "source": [
    "#### Se volessimo invece tradurre la nostra sequenza fino al primo codone di stop, come avviene in natura, esiste il parametro booleano to_stop:"
   ]
  },
  {
   "cell_type": "code",
   "execution_count": 38,
   "id": "ea19ba27",
   "metadata": {},
   "outputs": [
    {
     "data": {
      "text/plain": [
       "Seq('MAIVMGR')"
      ]
     },
     "execution_count": 38,
     "metadata": {},
     "output_type": "execute_result"
    }
   ],
   "source": [
    "mRNA.translate(to_stop=True)"
   ]
  },
  {
   "cell_type": "code",
   "execution_count": 39,
   "id": "41ab3d9f",
   "metadata": {},
   "outputs": [
    {
     "data": {
      "text/plain": [
       "Seq('MAIVMGRWKGAR')"
      ]
     },
     "execution_count": 39,
     "metadata": {},
     "output_type": "execute_result"
    }
   ],
   "source": [
    "mRNA.translate(table=\"Vertebrate Mitochondrial\", to_stop=True)"
   ]
  },
  {
   "cell_type": "code",
   "execution_count": 40,
   "id": "091c2ced",
   "metadata": {},
   "outputs": [
    {
     "data": {
      "text/plain": [
       "Seq('MAIVMGRWKGAR@')"
      ]
     },
     "execution_count": 40,
     "metadata": {},
     "output_type": "execute_result"
    }
   ],
   "source": [
    "mRNA.translate(table=2, stop_symbol=\"@\") # se voglio tenere il codone di stop posso modificare come viene mostrato"
   ]
  },
  {
   "cell_type": "markdown",
   "id": "fc3f0b81",
   "metadata": {},
   "source": [
    "#### Per l'uomo se avessimo un'intera CDS (senza introni e con un solo codone di stop ed uno di inizio) ci basterebbe usare .translate()\n",
    "#### In altri casi però, come per i batteri, anche avendo la CDS possiamo andare in contro a problemi:                                            \n",
    "#### alcuni batteri ad esempio convalidano come codone d'inizio GTG; solitamente GTG codifica per la valina, ma se presente come codone d'inizio batterico codifica metionina. \n"
   ]
  },
  {
   "cell_type": "code",
   "execution_count": 41,
   "id": "f232fe85",
   "metadata": {},
   "outputs": [],
   "source": [
    "bact_gene = Seq(\"GTGAAAAAGATGCAATCTATCGTACTCGCACTTTCCCTGGTTCTGGTCGCTCCCATGGCAGCACAGGCTGCGGAAATTACGTTAGTCCCGTCAGTAAAATTACAGATAGGCGATCGTGATAATCGTGGCTATTACTGGGATGGAGGTCACTGGCGCGACCACGGCTGGTGGAAACAACATTATGAATGGCGAGGCAATCGCTGGCACCTACACGGACCGCCGCCACCGCCGCGCCACCATAAGAAAGCTCCTCATGATCATCACGGCGGTCATGGTCCAGGCAAACATCACCGCTAA\")"
   ]
  },
  {
   "cell_type": "code",
   "execution_count": 42,
   "id": "9b384e2a",
   "metadata": {},
   "outputs": [
    {
     "data": {
      "text/plain": [
       "Seq('VKKMQSIVLALSLVLVAPMAAQAAEITLVPSVKLQIGDRDNRGYYWDGGHWRDH...HR*')"
      ]
     },
     "execution_count": 42,
     "metadata": {},
     "output_type": "execute_result"
    }
   ],
   "source": [
    "bact_gene.translate(table=\"Bacterial\")\n",
    "\n",
    "# vediamo infatti che il primo amminoacido è una valina, ma sappiamo che dovrebbe essere una metionina. "
   ]
  },
  {
   "cell_type": "code",
   "execution_count": 43,
   "id": "133e67b9",
   "metadata": {},
   "outputs": [
    {
     "data": {
      "text/plain": [
       "Seq('MKKMQSIVLALSLVLVAPMAAQAAEITLVPSVKLQIGDRDNRGYYWDGGHWRDH...HHR')"
      ]
     },
     "execution_count": 43,
     "metadata": {},
     "output_type": "execute_result"
    }
   ],
   "source": [
    "bact_gene.translate(table=\"Bacterial\", cds=True)  # cds=True necessario se trattiamo una cds!!!\n",
    "\n",
    "# Ora il primo codone viene tradotto in modo corretto perché abbiamo indicato che si tratta di una CDS completa.\n",
    "# Se non lo indichiamo noi infatti, il programma non può sapere se una stringa di caratteri sia o meno una CDS, \n",
    "# anche se è stato usato Seq per 'registrarla'."
   ]
  },
  {
   "cell_type": "code",
   "execution_count": 44,
   "id": "6d7c46c2",
   "metadata": {},
   "outputs": [],
   "source": [
    "# con cds=True inoltre, se la sequenza non fosse una valida candidata ad essere una CDS verrebbe alzato un errore."
   ]
  },
  {
   "cell_type": "markdown",
   "id": "31e1fcbb",
   "metadata": {},
   "source": [
    "### Tabelle di conversione"
   ]
  },
  {
   "cell_type": "code",
   "execution_count": 45,
   "id": "afdaaedd",
   "metadata": {},
   "outputs": [],
   "source": [
    "from Bio.Data import CodonTable"
   ]
  },
  {
   "cell_type": "code",
   "execution_count": 46,
   "id": "c0c27185",
   "metadata": {},
   "outputs": [],
   "source": [
    "standard_table = CodonTable.unambiguous_dna_by_name[\"Standard\"]              # necessario salvarle per \n",
    "mito_table = CodonTable.unambiguous_dna_by_name[\"Vertebrate Mitochondrial\"]  # consultarle."
   ]
  },
  {
   "cell_type": "code",
   "execution_count": 47,
   "id": "b557cbac",
   "metadata": {},
   "outputs": [
    {
     "name": "stdout",
     "output_type": "stream",
     "text": [
      "Table 1 Standard, SGC0\n",
      "\n",
      "  |  T      |  C      |  A      |  G      |\n",
      "--+---------+---------+---------+---------+--\n",
      "T | TTT F   | TCT S   | TAT Y   | TGT C   | T\n",
      "T | TTC F   | TCC S   | TAC Y   | TGC C   | C\n",
      "T | TTA L   | TCA S   | TAA Stop| TGA Stop| A\n",
      "T | TTG L(s)| TCG S   | TAG Stop| TGG W   | G\n",
      "--+---------+---------+---------+---------+--\n",
      "C | CTT L   | CCT P   | CAT H   | CGT R   | T\n",
      "C | CTC L   | CCC P   | CAC H   | CGC R   | C\n",
      "C | CTA L   | CCA P   | CAA Q   | CGA R   | A\n",
      "C | CTG L(s)| CCG P   | CAG Q   | CGG R   | G\n",
      "--+---------+---------+---------+---------+--\n",
      "A | ATT I   | ACT T   | AAT N   | AGT S   | T\n",
      "A | ATC I   | ACC T   | AAC N   | AGC S   | C\n",
      "A | ATA I   | ACA T   | AAA K   | AGA R   | A\n",
      "A | ATG M(s)| ACG T   | AAG K   | AGG R   | G\n",
      "--+---------+---------+---------+---------+--\n",
      "G | GTT V   | GCT A   | GAT D   | GGT G   | T\n",
      "G | GTC V   | GCC A   | GAC D   | GGC G   | C\n",
      "G | GTA V   | GCA A   | GAA E   | GGA G   | A\n",
      "G | GTG V   | GCG A   | GAG E   | GGG G   | G\n",
      "--+---------+---------+---------+---------+--\n"
     ]
    }
   ],
   "source": [
    "print(standard_table)"
   ]
  },
  {
   "cell_type": "code",
   "execution_count": 48,
   "id": "69252953",
   "metadata": {},
   "outputs": [
    {
     "name": "stdout",
     "output_type": "stream",
     "text": [
      "Table 2 Vertebrate Mitochondrial, SGC1\n",
      "\n",
      "  |  T      |  C      |  A      |  G      |\n",
      "--+---------+---------+---------+---------+--\n",
      "T | TTT F   | TCT S   | TAT Y   | TGT C   | T\n",
      "T | TTC F   | TCC S   | TAC Y   | TGC C   | C\n",
      "T | TTA L   | TCA S   | TAA Stop| TGA W   | A\n",
      "T | TTG L   | TCG S   | TAG Stop| TGG W   | G\n",
      "--+---------+---------+---------+---------+--\n",
      "C | CTT L   | CCT P   | CAT H   | CGT R   | T\n",
      "C | CTC L   | CCC P   | CAC H   | CGC R   | C\n",
      "C | CTA L   | CCA P   | CAA Q   | CGA R   | A\n",
      "C | CTG L   | CCG P   | CAG Q   | CGG R   | G\n",
      "--+---------+---------+---------+---------+--\n",
      "A | ATT I(s)| ACT T   | AAT N   | AGT S   | T\n",
      "A | ATC I(s)| ACC T   | AAC N   | AGC S   | C\n",
      "A | ATA M(s)| ACA T   | AAA K   | AGA Stop| A\n",
      "A | ATG M(s)| ACG T   | AAG K   | AGG Stop| G\n",
      "--+---------+---------+---------+---------+--\n",
      "G | GTT V   | GCT A   | GAT D   | GGT G   | T\n",
      "G | GTC V   | GCC A   | GAC D   | GGC G   | C\n",
      "G | GTA V   | GCA A   | GAA E   | GGA G   | A\n",
      "G | GTG V(s)| GCG A   | GAG E   | GGG G   | G\n",
      "--+---------+---------+---------+---------+--\n"
     ]
    }
   ],
   "source": [
    "print(mito_table)"
   ]
  },
  {
   "cell_type": "code",
   "execution_count": 49,
   "id": "5cc9301b",
   "metadata": {},
   "outputs": [
    {
     "data": {
      "text/plain": [
       "['TAA', 'TAG', 'TGA']"
      ]
     },
     "execution_count": 49,
     "metadata": {},
     "output_type": "execute_result"
    }
   ],
   "source": [
    "standard_table.stop_codons               # metodi utili per scoprire quali sono i codoni di stop/start."
   ]
  },
  {
   "cell_type": "code",
   "execution_count": 50,
   "id": "c5276064",
   "metadata": {},
   "outputs": [
    {
     "data": {
      "text/plain": [
       "['TAA', 'TAG', 'AGA', 'AGG']"
      ]
     },
     "execution_count": 50,
     "metadata": {},
     "output_type": "execute_result"
    }
   ],
   "source": [
    "mito_table.stop_codons                   # metodi utili per scoprire quali sono i codoni di stop/start."
   ]
  },
  {
   "cell_type": "code",
   "execution_count": 51,
   "id": "b359d58b",
   "metadata": {},
   "outputs": [
    {
     "data": {
      "text/plain": [
       "['TTG', 'CTG', 'ATG']"
      ]
     },
     "execution_count": 51,
     "metadata": {},
     "output_type": "execute_result"
    }
   ],
   "source": [
    "standard_table.start_codons              # metodi utili per scoprire quali sono i codoni di stop/start."
   ]
  },
  {
   "cell_type": "code",
   "execution_count": 52,
   "id": "1baa2342",
   "metadata": {},
   "outputs": [
    {
     "data": {
      "text/plain": [
       "['ATT', 'ATC', 'ATA', 'ATG', 'GTG']"
      ]
     },
     "execution_count": 52,
     "metadata": {},
     "output_type": "execute_result"
    }
   ],
   "source": [
    "mito_table.start_codons                  # metodi utili per scoprire quali sono i codoni di stop/start."
   ]
  },
  {
   "cell_type": "markdown",
   "id": "b681e41e",
   "metadata": {},
   "source": [
    "------------------------------\n",
    "## # MutableSeq\n",
    "### Gli oggetti 'Seq' sono di sola lettura, così come le stringhe in python; \n",
    "### se volessi modificare la sequenza per davvero, in memoria, dovremmo utilizzare una 'MutableSeq()'"
   ]
  },
  {
   "cell_type": "code",
   "execution_count": 53,
   "id": "99c0e669",
   "metadata": {},
   "outputs": [],
   "source": [
    "this_seq = Seq(\"GCCATTGTAATGGGCCGCTGAAAGGGTGCCCGA\")"
   ]
  },
  {
   "cell_type": "code",
   "execution_count": 54,
   "id": "e98c0471",
   "metadata": {},
   "outputs": [],
   "source": [
    "#this_seq[5] = \"G\"\n",
    "\n",
    "#      ↓\n",
    "\n",
    "#TypeError                         Traceback (most recent call last)\n",
    "#<ipython-input-85-26660d124212> in <module>\n",
    "#----> 1 this_seq[5] = \"G\"\n",
    "#      2 \n",
    "#      3 \n",
    "#      4 \n",
    "#      5 # File \"<ipython-input-83-1b97e53be12c>\", line 1\n",
    "#\n",
    "# TypeError: 'Seq' object does not support item assignment"
   ]
  },
  {
   "cell_type": "markdown",
   "id": "7facede9",
   "metadata": {},
   "source": [
    "#### 1) Se abbiamo già una sequenza oggetto Seq, possiamo convertirla a MutableSeq:"
   ]
  },
  {
   "cell_type": "code",
   "execution_count": 55,
   "id": "215186e4",
   "metadata": {},
   "outputs": [],
   "source": [
    "mutSeq = this_seq.tomutable()      # .tomutable() converte"
   ]
  },
  {
   "cell_type": "code",
   "execution_count": 56,
   "id": "64537693",
   "metadata": {},
   "outputs": [
    {
     "data": {
      "text/plain": [
       "MutableSeq('GCCATTGTAATGGGCCGCTGAAAGGGTGCCCGA')"
      ]
     },
     "execution_count": 56,
     "metadata": {},
     "output_type": "execute_result"
    }
   ],
   "source": [
    "mutSeq                             # finora sarebbe sempre comparsa Seq('...')!!!"
   ]
  },
  {
   "cell_type": "markdown",
   "id": "62b90126",
   "metadata": {},
   "source": [
    "#### 2) Altrimenti, se volessi inizializzarla nel mentre, è possibile farlo come per Seq:"
   ]
  },
  {
   "cell_type": "code",
   "execution_count": 57,
   "id": "8993994d",
   "metadata": {},
   "outputs": [],
   "source": [
    "from Bio.Seq import MutableSeq   # va però importato l'oggetto MutableSeq!!!\n",
    "\n",
    "mutable_seq = MutableSeq(\"GCCATTGTAATGGGCCGCTGAAAGGGTGCCCGA\")"
   ]
  },
  {
   "cell_type": "markdown",
   "id": "70f2edf7",
   "metadata": {},
   "source": [
    "#### Ora però la sequenza è modificabile:"
   ]
  },
  {
   "cell_type": "code",
   "execution_count": 58,
   "id": "94d1da99",
   "metadata": {},
   "outputs": [
    {
     "data": {
      "text/plain": [
       "MutableSeq('GCCATTGTAATGGGCCGCTGAAAGGGTGCCCGA')"
      ]
     },
     "execution_count": 58,
     "metadata": {},
     "output_type": "execute_result"
    }
   ],
   "source": [
    "mutable_seq"
   ]
  },
  {
   "cell_type": "code",
   "execution_count": 59,
   "id": "7748f187",
   "metadata": {},
   "outputs": [
    {
     "data": {
      "text/plain": [
       "MutableSeq('ACCATTGTAATGGGCCGCTGAAAGGGTGCCCGA')"
      ]
     },
     "execution_count": 59,
     "metadata": {},
     "output_type": "execute_result"
    }
   ],
   "source": [
    "mutable_seq[0] = 'A'\n",
    "mutable_seq"
   ]
  },
  {
   "cell_type": "code",
   "execution_count": 60,
   "id": "2d5ee22d",
   "metadata": {},
   "outputs": [
    {
     "data": {
      "text/plain": [
       "MutableSeq('ACCATTGTAATGGGCCGCTGAAAGGGTGCCCGA')"
      ]
     },
     "execution_count": 60,
     "metadata": {},
     "output_type": "execute_result"
    }
   ],
   "source": [
    "mutable_seq      # il cambiamento permane, non è solo un cambiamento in lettura come prima"
   ]
  },
  {
   "cell_type": "code",
   "execution_count": 61,
   "id": "840861da",
   "metadata": {},
   "outputs": [],
   "source": [
    "mutable_seq.remove(\"T\")"
   ]
  },
  {
   "cell_type": "code",
   "execution_count": 62,
   "id": "d56dcec6",
   "metadata": {},
   "outputs": [
    {
     "data": {
      "text/plain": [
       "MutableSeq('ACCATGTAATGGGCCGCTGAAAGGGTGCCCGA')"
      ]
     },
     "execution_count": 62,
     "metadata": {},
     "output_type": "execute_result"
    }
   ],
   "source": [
    "mutable_seq      # anche qui, il cambiamento rimane."
   ]
  },
  {
   "cell_type": "markdown",
   "id": "785672fd",
   "metadata": {},
   "source": [
    "#### L'oggetto MutableSeq può anch'esso essere invertito a Seq:"
   ]
  },
  {
   "cell_type": "code",
   "execution_count": 63,
   "id": "9021370c",
   "metadata": {},
   "outputs": [
    {
     "data": {
      "text/plain": [
       "Bio.Seq.MutableSeq"
      ]
     },
     "execution_count": 63,
     "metadata": {},
     "output_type": "execute_result"
    }
   ],
   "source": [
    "type(mutable_seq)"
   ]
  },
  {
   "cell_type": "code",
   "execution_count": 64,
   "id": "fa734591",
   "metadata": {},
   "outputs": [],
   "source": [
    "read_seq = mutable_seq.toseq()"
   ]
  },
  {
   "cell_type": "code",
   "execution_count": 65,
   "id": "3185f585",
   "metadata": {},
   "outputs": [
    {
     "data": {
      "text/plain": [
       "Bio.Seq.Seq"
      ]
     },
     "execution_count": 65,
     "metadata": {},
     "output_type": "execute_result"
    }
   ],
   "source": [
    "type(read_seq)"
   ]
  },
  {
   "cell_type": "markdown",
   "id": "05b39b12",
   "metadata": {},
   "source": [
    "-----------------\n",
    "## # UnknownSeq \n",
    "### La memoria è importante ed è importante non sprecarla! Per questo motivo UnknownSeq è stato costruito per evitare di inizializzare stringe con millemila \"N\" per regioni ignote di cromosomi o geni.\n",
    "### Con questo oggetto è solo necessario passare la lunghezza della 'stringa' ed il tipo di carattere che la comporrà."
   ]
  },
  {
   "cell_type": "code",
   "execution_count": 66,
   "id": "dd130557",
   "metadata": {},
   "outputs": [],
   "source": [
    "from Bio.Seq import UnknownSeq             # serve importarlo, come per Seq e MutableSeq!!!"
   ]
  },
  {
   "cell_type": "code",
   "execution_count": 69,
   "id": "e342a897",
   "metadata": {},
   "outputs": [],
   "source": [
    "nknwn = UnknownSeq(300, character='N')     # serve solo la lunghezza ed il tipo di carattere."
   ]
  },
  {
   "cell_type": "code",
   "execution_count": 70,
   "id": "b14a0406",
   "metadata": {},
   "outputs": [
    {
     "data": {
      "text/plain": [
       "UnknownSeq(300, character='N')"
      ]
     },
     "execution_count": 70,
     "metadata": {},
     "output_type": "execute_result"
    }
   ],
   "source": [
    "nknwn                                      # non stampa tutte le N, ma le considera come 300 N in fila in stringa."
   ]
  },
  {
   "cell_type": "code",
   "execution_count": 71,
   "id": "6e000f61",
   "metadata": {},
   "outputs": [
    {
     "name": "stdout",
     "output_type": "stream",
     "text": [
      "NNNNNNNNNNNNNNNNNNNNNNNNNNNNNNNNNNNNNNNNNNNNNNNNNNNNNNNNNNNNNNNNNNNNNNNNNNNNNNNNNNNNNNNNNNNNNNNNNNNNNNNNNNNNNNNNNNNNNNNNNNNNNNNNNNNNNNNNNNNNNNNNNNNNNNNNNNNNNNNNNNNNNNNNNNNNNNNNNNNNNNNNNNNNNNNNNNNNNNNNNNNNNNNNNNNNNNNNNNNNNNNNNNNNNNNNNNNNNNNNNNNNNNNNNNNNNNNNNNNNNNNNNNNNNNNNNNNNNNNNNNNNNNNNNNNNNNNNNNNN\n"
     ]
    }
   ],
   "source": [
    "print(nknwn)"
   ]
  },
  {
   "cell_type": "code",
   "execution_count": 72,
   "id": "0c27151c",
   "metadata": {},
   "outputs": [
    {
     "data": {
      "text/plain": [
       "300"
      ]
     },
     "execution_count": 72,
     "metadata": {},
     "output_type": "execute_result"
    }
   ],
   "source": [
    "len(nknwn)"
   ]
  },
  {
   "cell_type": "code",
   "execution_count": null,
   "id": "3249d339",
   "metadata": {},
   "outputs": [],
   "source": []
  }
 ],
 "metadata": {
  "kernelspec": {
   "display_name": "Python 3",
   "language": "python",
   "name": "python3"
  },
  "language_info": {
   "codemirror_mode": {
    "name": "ipython",
    "version": 3
   },
   "file_extension": ".py",
   "mimetype": "text/x-python",
   "name": "python",
   "nbconvert_exporter": "python",
   "pygments_lexer": "ipython3",
   "version": "3.8.6"
  }
 },
 "nbformat": 4,
 "nbformat_minor": 5
}
